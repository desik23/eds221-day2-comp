{
 "cells": [
  {
   "cell_type": "markdown",
   "id": "41fc7c78",
   "metadata": {},
   "source": [
    "## Make and index data in Python\n",
    "\n",
    "Creating vectors and a pandas DataFrame, some low-key indexing\n"
   ]
  },
  {
   "cell_type": "code",
   "execution_count": 1,
   "id": "30ec7e30",
   "metadata": {},
   "outputs": [],
   "source": [
    "import numpy as np\n",
    "import pandas as pd"
   ]
  },
  {
   "cell_type": "code",
   "execution_count": 19,
   "id": "5226495f",
   "metadata": {},
   "outputs": [
    {
     "data": {
      "text/plain": [
       "[1, 2, 8, 10, 20, 1000]"
      ]
     },
     "execution_count": 19,
     "metadata": {},
     "output_type": "execute_result"
    }
   ],
   "source": [
    "teddy = [1, 2, 8]\n",
    "type(teddy)\n",
    "\n",
    "khora = [10, 20, 1000]\n",
    "type(khora)\n",
    "\n",
    "teddy + khora\n"
   ]
  },
  {
   "cell_type": "code",
   "execution_count": 20,
   "id": "214d93be",
   "metadata": {},
   "outputs": [
    {
     "data": {
      "text/plain": [
       "array([1, 2, 8])"
      ]
     },
     "execution_count": 20,
     "metadata": {},
     "output_type": "execute_result"
    }
   ],
   "source": [
    "teddy_vec = np.array(teddy)\n",
    "type(teddy_vec)\n",
    "\n",
    "teddy_vec"
   ]
  },
  {
   "cell_type": "code",
   "execution_count": 21,
   "id": "c263234b",
   "metadata": {},
   "outputs": [
    {
     "data": {
      "text/plain": [
       "2"
      ]
     },
     "execution_count": 21,
     "metadata": {},
     "output_type": "execute_result"
    }
   ],
   "source": [
    "teddy[1]\n"
   ]
  },
  {
   "cell_type": "code",
   "execution_count": 22,
   "id": "45e78dd3",
   "metadata": {},
   "outputs": [],
   "source": [
    "teddy[1] = 5000"
   ]
  },
  {
   "cell_type": "code",
   "execution_count": 23,
   "id": "15d0d602",
   "metadata": {},
   "outputs": [
    {
     "data": {
      "text/plain": [
       "[1, 5000, 8]"
      ]
     },
     "execution_count": 23,
     "metadata": {},
     "output_type": "execute_result"
    }
   ],
   "source": [
    "teddy"
   ]
  },
  {
   "cell_type": "code",
   "execution_count": 25,
   "id": "ead2e6db",
   "metadata": {},
   "outputs": [
    {
     "data": {
      "text/plain": [
       "tuple"
      ]
     },
     "execution_count": 25,
     "metadata": {},
     "output_type": "execute_result"
    }
   ],
   "source": [
    "freddy = (1,2,8)\n",
    "type(freddy)"
   ]
  },
  {
   "cell_type": "code",
   "execution_count": 26,
   "id": "0fb78413",
   "metadata": {},
   "outputs": [
    {
     "data": {
      "text/plain": [
       "2"
      ]
     },
     "execution_count": 26,
     "metadata": {},
     "output_type": "execute_result"
    }
   ],
   "source": [
    "freddy[1]"
   ]
  },
  {
   "cell_type": "code",
   "execution_count": 27,
   "id": "61e26dfc",
   "metadata": {},
   "outputs": [
    {
     "ename": "TypeError",
     "evalue": "'tuple' object does not support item assignment",
     "output_type": "error",
     "traceback": [
      "\u001b[1;31m---------------------------------------------------------------------------\u001b[0m",
      "\u001b[1;31mTypeError\u001b[0m                                 Traceback (most recent call last)",
      "\u001b[1;32m<ipython-input-27-258ec04c6803>\u001b[0m in \u001b[0;36m<module>\u001b[1;34m\u001b[0m\n\u001b[1;32m----> 1\u001b[1;33m \u001b[0mfreddy\u001b[0m\u001b[1;33m[\u001b[0m\u001b[1;36m1\u001b[0m\u001b[1;33m]\u001b[0m \u001b[1;33m=\u001b[0m \u001b[1;36m10\u001b[0m\u001b[1;33m\u001b[0m\u001b[1;33m\u001b[0m\u001b[0m\n\u001b[0m",
      "\u001b[1;31mTypeError\u001b[0m: 'tuple' object does not support item assignment"
     ]
    }
   ],
   "source": [
    "freddy[1] = 10\n"
   ]
  },
  {
   "cell_type": "code",
   "execution_count": 28,
   "id": "5156558f",
   "metadata": {},
   "outputs": [],
   "source": [
    "waffle = [2, \"burrito\", [0,1,2]]"
   ]
  },
  {
   "cell_type": "code",
   "execution_count": 29,
   "id": "cf0da3ae",
   "metadata": {},
   "outputs": [
    {
     "data": {
      "text/plain": [
       "[2, 'burrito', [0, 1, 2]]"
      ]
     },
     "execution_count": 29,
     "metadata": {},
     "output_type": "execute_result"
    }
   ],
   "source": [
    "waffle"
   ]
  },
  {
   "cell_type": "code",
   "execution_count": 30,
   "id": "29e94db5",
   "metadata": {},
   "outputs": [
    {
     "data": {
      "text/plain": [
       "[0, 1, 2]"
      ]
     },
     "execution_count": 30,
     "metadata": {},
     "output_type": "execute_result"
    }
   ],
   "source": [
    "waffle[2]"
   ]
  },
  {
   "cell_type": "code",
   "execution_count": 32,
   "id": "762555e5",
   "metadata": {},
   "outputs": [
    {
     "data": {
      "text/plain": [
       "1"
      ]
     },
     "execution_count": 32,
     "metadata": {},
     "output_type": "execute_result"
    }
   ],
   "source": [
    "waffle[2][1]"
   ]
  },
  {
   "cell_type": "code",
   "execution_count": 41,
   "id": "db2567ac",
   "metadata": {},
   "outputs": [],
   "source": [
    "cows = {'name': [\"moo\", \"spots\", \"happy\"], 'location': [\"pasture\", \"prarie\", \"barn\"]}"
   ]
  },
  {
   "cell_type": "code",
   "execution_count": 42,
   "id": "f15531da",
   "metadata": {},
   "outputs": [
    {
     "data": {
      "text/plain": [
       "{'name': ['moo', 'spots', 'happy'], 'location': ['pasture', 'prarie', 'barn']}"
      ]
     },
     "execution_count": 42,
     "metadata": {},
     "output_type": "execute_result"
    }
   ],
   "source": [
    "cows"
   ]
  },
  {
   "cell_type": "code",
   "execution_count": 43,
   "id": "c8de7623",
   "metadata": {},
   "outputs": [],
   "source": [
    "cows_df = pd.DataFrame(cows)"
   ]
  },
  {
   "cell_type": "code",
   "execution_count": 44,
   "id": "c3b7d5c8",
   "metadata": {},
   "outputs": [
    {
     "data": {
      "text/html": [
       "<div>\n",
       "<style scoped>\n",
       "    .dataframe tbody tr th:only-of-type {\n",
       "        vertical-align: middle;\n",
       "    }\n",
       "\n",
       "    .dataframe tbody tr th {\n",
       "        vertical-align: top;\n",
       "    }\n",
       "\n",
       "    .dataframe thead th {\n",
       "        text-align: right;\n",
       "    }\n",
       "</style>\n",
       "<table border=\"1\" class=\"dataframe\">\n",
       "  <thead>\n",
       "    <tr style=\"text-align: right;\">\n",
       "      <th></th>\n",
       "      <th>name</th>\n",
       "      <th>location</th>\n",
       "    </tr>\n",
       "  </thead>\n",
       "  <tbody>\n",
       "    <tr>\n",
       "      <th>0</th>\n",
       "      <td>moo</td>\n",
       "      <td>pasture</td>\n",
       "    </tr>\n",
       "    <tr>\n",
       "      <th>1</th>\n",
       "      <td>spots</td>\n",
       "      <td>prarie</td>\n",
       "    </tr>\n",
       "    <tr>\n",
       "      <th>2</th>\n",
       "      <td>happy</td>\n",
       "      <td>barn</td>\n",
       "    </tr>\n",
       "  </tbody>\n",
       "</table>\n",
       "</div>"
      ],
      "text/plain": [
       "    name location\n",
       "0    moo  pasture\n",
       "1  spots   prarie\n",
       "2  happy     barn"
      ]
     },
     "execution_count": 44,
     "metadata": {},
     "output_type": "execute_result"
    }
   ],
   "source": [
    "cows_df"
   ]
  },
  {
   "cell_type": "code",
   "execution_count": null,
   "id": "ea1a1df0",
   "metadata": {},
   "outputs": [],
   "source": []
  }
 ],
 "metadata": {
  "kernelspec": {
   "display_name": "Python 3",
   "language": "python",
   "name": "python3"
  },
  "language_info": {
   "codemirror_mode": {
    "name": "ipython",
    "version": 3
   },
   "file_extension": ".py",
   "mimetype": "text/x-python",
   "name": "python",
   "nbconvert_exporter": "python",
   "pygments_lexer": "ipython3",
   "version": "3.8.8"
  }
 },
 "nbformat": 4,
 "nbformat_minor": 5
}
